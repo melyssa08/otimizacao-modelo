{
  "nbformat": 4,
  "nbformat_minor": 0,
  "metadata": {
    "colab": {
      "provenance": []
    },
    "kernelspec": {
      "name": "python3",
      "display_name": "Python 3"
    },
    "language_info": {
      "name": "python"
    }
  },
  "cells": [
    {
      "cell_type": "markdown",
      "source": [
        "# Importação de bibliotecas"
      ],
      "metadata": {
        "id": "yA6TngFh9-nR"
      }
    },
    {
      "cell_type": "code",
      "source": [
        "pip install joblib"
      ],
      "metadata": {
        "colab": {
          "base_uri": "https://localhost:8080/"
        },
        "id": "JC9dwQr_Bi6t",
        "outputId": "ac0abe52-f192-4924-ac98-43d04f45c9c6"
      },
      "execution_count": 44,
      "outputs": [
        {
          "output_type": "stream",
          "name": "stdout",
          "text": [
            "Requirement already satisfied: joblib in /usr/local/lib/python3.10/dist-packages (1.4.2)\n"
          ]
        }
      ]
    },
    {
      "cell_type": "code",
      "source": [
        "import tensorflow as tf  # Importa o TensorFlow, uma biblioteca de machine learning\n",
        "from tensorflow.keras import datasets, layers, models  # Importa módulos específicos do TensorFlow para criar e treinar modelos\n",
        "import matplotlib.pyplot as plt  # Importa o Matplotlib para criar gráficos\n",
        "import keras  # Importa o Keras, uma API de alto nível para redes neurais, agora integrada ao TensorFlow\n",
        "import numpy as np  # Importa o NumPy, uma biblioteca para operações numéricas em arrays\n",
        "import time  # Importa o módulo time para medir o tempo de execução\n",
        "import psutil  # Importa o Psutil para monitorar o uso de recursos do sistema, como memória e CPU\n",
        "import joblib # Importa o joblib para salvamento do modelo"
      ],
      "metadata": {
        "id": "vv9-Rr1f-EyA"
      },
      "execution_count": 47,
      "outputs": []
    },
    {
      "cell_type": "markdown",
      "source": [
        "# Carregamento do cifar-10 e Pré-Processamento"
      ],
      "metadata": {
        "id": "OfwjC68m-IJ0"
      }
    },
    {
      "cell_type": "code",
      "source": [
        "# Carrega os dados CIFAR-10, dividindo em conjuntos de treinamento e teste\n",
        "(train_images, train_labels), (test_images, test_labels) = datasets.cifar10.load_data()\n",
        "\n",
        "# Normaliza os valores dos pixels das imagens para o intervalo [0, 1]\n",
        "train_images, test_images = train_images / 255.0, test_images / 255.0"
      ],
      "metadata": {
        "id": "SnnqFG8g-PEJ"
      },
      "execution_count": 7,
      "outputs": []
    },
    {
      "cell_type": "markdown",
      "source": [
        "# Construção de Modelo de Classificação\n",
        "\n",
        "Construção de modelo sem as técnicas de otimização e construção de modelo com as técnicas de otimização"
      ],
      "metadata": {
        "id": "8CHbps1--Sez"
      }
    },
    {
      "cell_type": "markdown",
      "source": [
        "## Modelo de Classificação sem as Técnicas de Otimização"
      ],
      "metadata": {
        "id": "O4P60PovCbRp"
      }
    },
    {
      "cell_type": "code",
      "source": [
        "# Cria um modelo sequencial\n",
        "model = models.Sequential()\n",
        "\n",
        "# Adiciona uma camada de convolução com 32 filtros, tamanho do kernel de 3x3, e função de ativação ReLU\n",
        "# Define a forma de entrada como 32x32 pixels com 3 canais de cor (RGB)\n",
        "model.add(layers.Conv2D(32, (3, 3), activation='relu', input_shape=(32, 32, 3)))\n",
        "\n",
        "# Adiciona uma camada de pooling (subamostragem) com tamanho de pool de 2x2\n",
        "model.add(layers.MaxPooling2D((2, 2)))\n",
        "\n",
        "# Adiciona uma segunda camada de convolução com 64 filtros e função de ativação ReLU\n",
        "model.add(layers.Conv2D(64, (3, 3), activation='relu'))\n",
        "\n",
        "# Adiciona uma segunda camada de pooling com tamanho de pool de 2x2\n",
        "model.add(layers.MaxPooling2D((2, 2)))\n",
        "\n",
        "# Adiciona uma terceira camada de convolução com 64 filtros e função de ativação ReLU\n",
        "model.add(layers.Conv2D(64, (3, 3), activation='relu'))\n",
        "\n",
        "# Achata a saída 3D para 1D para ser usada pela camada totalmente conectada\n",
        "model.add(layers.Flatten())\n",
        "\n",
        "# Adiciona uma camada densa (totalmente conectada) com 64 unidades e função de ativação ReLU\n",
        "model.add(layers.Dense(64, activation='relu'))\n",
        "\n",
        "# Adiciona uma camada densa (totalmente conectada) de saída com 10 unidades (uma para cada classe) sem ativação\n",
        "model.add(layers.Dense(10))"
      ],
      "metadata": {
        "id": "mV0USVcC-UkI"
      },
      "execution_count": 8,
      "outputs": []
    },
    {
      "cell_type": "markdown",
      "source": [
        "### Compilação do Modelo"
      ],
      "metadata": {
        "id": "Ouks8UOw-b40"
      }
    },
    {
      "cell_type": "code",
      "source": [
        "# Compila o modelo usando o otimizador 'adam'\n",
        "# Configura a função de perda como a entropia cruzada categórica esparsa,\n",
        "# adequada para problemas de classificação com rótulos inteiros\n",
        "# A opção from_logits=True indica que a função de perda espera que as previsões do modelo\n",
        "# não tenham sido normalizadas pelo softmax\n",
        "# Adiciona a métrica de precisão como métrica para monitorar durante o treinamento\n",
        "model.compile(optimizer='adam',\n",
        "              loss=tf.keras.losses.SparseCategoricalCrossentropy(from_logits=True),\n",
        "              metrics=['accuracy'])"
      ],
      "metadata": {
        "id": "DefJT3xO-emy"
      },
      "execution_count": 9,
      "outputs": []
    },
    {
      "cell_type": "markdown",
      "source": [
        "### Treinamento do Modelo"
      ],
      "metadata": {
        "id": "o2hKzld3-hDy"
      }
    },
    {
      "cell_type": "code",
      "source": [
        "# Treina o modelo usando os dados de treinamento\n",
        "# Define o número de épocas como 10, ou seja, o modelo será treinado em todo o conjunto de dados 10 vezes\n",
        "# Define o tamanho do lote como 64, o que significa que cada vez que os pesos do modelo são atualizados,\n",
        "# ele verá 64 exemplos de treinamento\n",
        "# Usa os dados de teste como dados de validação para monitorar o desempenho do modelo em um conjunto de dados não visto durante o treinamento\n",
        "history = model.fit(train_images, train_labels, epochs=10, batch_size=64,\n",
        "                    validation_data=(test_images, test_labels))"
      ],
      "metadata": {
        "colab": {
          "base_uri": "https://localhost:8080/"
        },
        "id": "iGfBBvcD-lrk",
        "outputId": "bd4f7a3f-58ff-4265-8e7f-664201a476a9"
      },
      "execution_count": 10,
      "outputs": [
        {
          "output_type": "stream",
          "name": "stdout",
          "text": [
            "Epoch 1/10\n",
            "782/782 [==============================] - 66s 84ms/step - loss: 1.5711 - accuracy: 0.4248 - val_loss: 1.2879 - val_accuracy: 0.5340\n",
            "Epoch 2/10\n",
            "782/782 [==============================] - 58s 74ms/step - loss: 1.2243 - accuracy: 0.5656 - val_loss: 1.1338 - val_accuracy: 0.6009\n",
            "Epoch 3/10\n",
            "782/782 [==============================] - 62s 79ms/step - loss: 1.0635 - accuracy: 0.6257 - val_loss: 1.0210 - val_accuracy: 0.6400\n",
            "Epoch 4/10\n",
            "782/782 [==============================] - 60s 77ms/step - loss: 0.9663 - accuracy: 0.6626 - val_loss: 0.9892 - val_accuracy: 0.6568\n",
            "Epoch 5/10\n",
            "782/782 [==============================] - 62s 79ms/step - loss: 0.8964 - accuracy: 0.6872 - val_loss: 0.9794 - val_accuracy: 0.6531\n",
            "Epoch 6/10\n",
            "782/782 [==============================] - 60s 77ms/step - loss: 0.8415 - accuracy: 0.7044 - val_loss: 0.8844 - val_accuracy: 0.6900\n",
            "Epoch 7/10\n",
            "782/782 [==============================] - 59s 76ms/step - loss: 0.7905 - accuracy: 0.7235 - val_loss: 0.8947 - val_accuracy: 0.6869\n",
            "Epoch 8/10\n",
            "782/782 [==============================] - 60s 77ms/step - loss: 0.7470 - accuracy: 0.7401 - val_loss: 0.8650 - val_accuracy: 0.7050\n",
            "Epoch 9/10\n",
            "782/782 [==============================] - 60s 77ms/step - loss: 0.7071 - accuracy: 0.7540 - val_loss: 0.8760 - val_accuracy: 0.7070\n",
            "Epoch 10/10\n",
            "782/782 [==============================] - 57s 73ms/step - loss: 0.6710 - accuracy: 0.7649 - val_loss: 0.8989 - val_accuracy: 0.6945\n"
          ]
        }
      ]
    },
    {
      "cell_type": "markdown",
      "source": [
        "## Modelo de Classificação com as Técnicas de Otimização\n",
        "\n",
        "Implementação das seguintes técnicas para evitar o sobreajuste, melhorar a acurácia, tempo de inferência e memória:\n",
        "\n",
        "- Early Stopping;\n",
        "- Dropout;\n",
        "- Quantização;\n"
      ],
      "metadata": {
        "id": "4SOkUm1BD-g4"
      }
    },
    {
      "cell_type": "markdown",
      "source": [
        "### Early Stopping"
      ],
      "metadata": {
        "id": "v5F0r3K5IPtV"
      }
    },
    {
      "cell_type": "code",
      "source": [
        "# Cria um callback EarlyStopping para interromper o treinamento prematuramente se não houver melhora na perda de validação\n",
        "# 'monitor' especifica a métrica a ser monitorada, neste caso, a perda de validação\n",
        "# 'patience' define o número de épocas a serem esperadas após a parada do treinamento se não houver melhora\n",
        "# 'restore_best_weights' indica se os pesos do modelo devem ser restaurados para os melhores pesos após a parada\n",
        "# 'start_from_epoch' especifica a época a partir da qual começar a monitorar a paciência\n",
        "callback = keras.callbacks.EarlyStopping(monitor='val_loss',\n",
        "                                          patience=2, restore_best_weights=True, start_from_epoch=2)"
      ],
      "metadata": {
        "id": "OS9WW4kMIRyM"
      },
      "execution_count": 11,
      "outputs": []
    },
    {
      "cell_type": "markdown",
      "source": [
        "### Modelo com Dropout"
      ],
      "metadata": {
        "id": "tk7Ws56GIT9g"
      }
    },
    {
      "cell_type": "code",
      "source": [
        "# Cria um modelo sequencial\n",
        "model_optimizer = models.Sequential()\n",
        "\n",
        "# Adiciona uma camada de convolução com 32 filtros, função de ativação ReLU e tamanho de entrada (32, 32, 3)\n",
        "model_optimizer.add(layers.Conv2D(32, (3, 3), activation='relu', input_shape=(32, 32, 3)))\n",
        "\n",
        "# Adiciona uma camada de pooling máxima com tamanho (2, 2)\n",
        "model_optimizer.add(layers.MaxPooling2D((2, 2)))\n",
        "\n",
        "# Adiciona uma segunda camada de convolução com 64 filtros e função de ativação ReLU\n",
        "model_optimizer.add(layers.Conv2D(64, (3, 3), activation='relu'))\n",
        "\n",
        "# Adiciona uma segunda camada de pooling máxima com tamanho (2, 2)\n",
        "model_optimizer.add(layers.MaxPooling2D((2, 2)))\n",
        "\n",
        "# Adiciona uma terceira camada de convolução com 64 filtros e função de ativação ReLU\n",
        "model_optimizer.add(layers.Conv2D(64, (3, 3), activation='relu'))\n",
        "\n",
        "# Achata a saída para passar para as camadas totalmente conectadas\n",
        "model_optimizer.add(layers.Flatten())\n",
        "\n",
        "# Adiciona uma camada densa com 64 neurônios e função de ativação ReLU\n",
        "model_optimizer.add(layers.Dense(64, activation='relu'))\n",
        "\n",
        "# Adiciona uma camada de dropout com uma taxa de dropout de 0.5 para reduzir o overfitting\n",
        "model_optimizer.add(layers.Dropout(0.5))\n",
        "\n",
        "# Adiciona uma camada densa de saída com 10 neurônios para as 10 classes possíveis\n",
        "model_optimizer.add(layers.Dense(10))"
      ],
      "metadata": {
        "id": "zMZvuuflHlg5"
      },
      "execution_count": 12,
      "outputs": []
    },
    {
      "cell_type": "markdown",
      "source": [
        "### Compilação do Modelo"
      ],
      "metadata": {
        "id": "OZkZZIxGH3lk"
      }
    },
    {
      "cell_type": "code",
      "source": [
        "# Compila o modelo otimizado\n",
        "model_optimizer.compile(optimizer='adam',\n",
        "              loss=tf.keras.losses.SparseCategoricalCrossentropy(from_logits=True),\n",
        "              metrics=['accuracy'])"
      ],
      "metadata": {
        "id": "fr5COnRpH3lx"
      },
      "execution_count": 13,
      "outputs": []
    },
    {
      "cell_type": "markdown",
      "source": [
        "### Treinamento do Modelo"
      ],
      "metadata": {
        "id": "l11ucIjrIGmL"
      }
    },
    {
      "cell_type": "code",
      "source": [
        "# Treina o modelo otimizado usando os dados de treinamento e validação\n",
        "history_optimizer = model_optimizer.fit(train_images, train_labels, epochs=10, batch_size=64,\n",
        "                    validation_data=(test_images, test_labels), callbacks=[callback])"
      ],
      "metadata": {
        "colab": {
          "base_uri": "https://localhost:8080/"
        },
        "id": "0VfXWLmKIImi",
        "outputId": "c4c49b61-d89c-4625-f0cc-3cb142b8d685"
      },
      "execution_count": 14,
      "outputs": [
        {
          "output_type": "stream",
          "name": "stdout",
          "text": [
            "Epoch 1/10\n",
            "782/782 [==============================] - 63s 80ms/step - loss: 1.7571 - accuracy: 0.3467 - val_loss: 1.3737 - val_accuracy: 0.5078\n",
            "Epoch 2/10\n",
            "782/782 [==============================] - 57s 74ms/step - loss: 1.4235 - accuracy: 0.4890 - val_loss: 1.1894 - val_accuracy: 0.5725\n",
            "Epoch 3/10\n",
            "782/782 [==============================] - 57s 73ms/step - loss: 1.2733 - accuracy: 0.5479 - val_loss: 1.1224 - val_accuracy: 0.5978\n",
            "Epoch 4/10\n",
            "782/782 [==============================] - 61s 78ms/step - loss: 1.1811 - accuracy: 0.5845 - val_loss: 1.1291 - val_accuracy: 0.6025\n",
            "Epoch 5/10\n",
            "782/782 [==============================] - 58s 74ms/step - loss: 1.1076 - accuracy: 0.6126 - val_loss: 0.9925 - val_accuracy: 0.6551\n",
            "Epoch 6/10\n",
            "782/782 [==============================] - 61s 79ms/step - loss: 1.0417 - accuracy: 0.6373 - val_loss: 0.9659 - val_accuracy: 0.6583\n",
            "Epoch 7/10\n",
            "782/782 [==============================] - 60s 77ms/step - loss: 0.9906 - accuracy: 0.6553 - val_loss: 0.9043 - val_accuracy: 0.6876\n",
            "Epoch 8/10\n",
            "782/782 [==============================] - 59s 76ms/step - loss: 0.9474 - accuracy: 0.6705 - val_loss: 0.9181 - val_accuracy: 0.6832\n",
            "Epoch 9/10\n",
            "782/782 [==============================] - 57s 73ms/step - loss: 0.9029 - accuracy: 0.6866 - val_loss: 0.8809 - val_accuracy: 0.6976\n",
            "Epoch 10/10\n",
            "782/782 [==============================] - 57s 73ms/step - loss: 0.8740 - accuracy: 0.6998 - val_loss: 0.8746 - val_accuracy: 0.6985\n"
          ]
        }
      ]
    },
    {
      "cell_type": "markdown",
      "source": [
        "### Quantização"
      ],
      "metadata": {
        "id": "KijlmDhwMOMR"
      }
    },
    {
      "cell_type": "code",
      "source": [
        "# Converte o modelo Keras para o formato TensorFlow Lite\n",
        "converter = tf.lite.TFLiteConverter.from_keras_model(model_optimizer)\n",
        "\n",
        "# Aplica otimizações de quantização ao modelo convertido\n",
        "converter.optimizations = [tf.lite.Optimize.DEFAULT]\n",
        "\n",
        "# Converte o modelo otimizado para o formato TensorFlow Lite quantizado\n",
        "quantized_model = converter.convert()\n",
        "\n",
        "# Cria um interpretador TensorFlow Lite com o modelo quantizado\n",
        "interpreter = tf.lite.Interpreter(model_content=quantized_model)\n",
        "\n",
        "# Aloca tensores para o interpretador TensorFlow Lite\n",
        "interpreter.allocate_tensors()"
      ],
      "metadata": {
        "id": "O88NAATXMfB9"
      },
      "execution_count": 15,
      "outputs": []
    },
    {
      "cell_type": "markdown",
      "source": [
        "### Salva o Modelo"
      ],
      "metadata": {
        "id": "rjdrdcPej5NN"
      }
    },
    {
      "cell_type": "code",
      "source": [
        "model_optimizer.save('model_optimizer.h5')\n",
        "\n",
        "joblib.dump(model_optimizer, 'model_optimizer.pkl')"
      ],
      "metadata": {
        "colab": {
          "base_uri": "https://localhost:8080/"
        },
        "id": "VdKETSf6j_vB",
        "outputId": "27994a78-805c-494f-f38f-1508e7ce684e"
      },
      "execution_count": 53,
      "outputs": [
        {
          "output_type": "execute_result",
          "data": {
            "text/plain": [
              "['model_optimizer.pkl']"
            ]
          },
          "metadata": {},
          "execution_count": 53
        }
      ]
    },
    {
      "cell_type": "markdown",
      "source": [
        "# Análise Comparativa e Visualizações Gráficas"
      ],
      "metadata": {
        "id": "aHEc6kWh_b4B"
      }
    },
    {
      "cell_type": "markdown",
      "source": [
        "## Avalição da Acurácia"
      ],
      "metadata": {
        "id": "cbp6Sps5AQCC"
      }
    },
    {
      "cell_type": "code",
      "source": [
        "# Inicia a contagem do tempo para medir o tempo de inferência do modelo original\n",
        "start_time = time.time()\n",
        "\n",
        "# Avalia o modelo original nos dados de teste e obtém a perda e a acurácia\n",
        "test_loss, test_acc = model.evaluate(test_images, test_labels, verbose=2)\n",
        "print('\\nAcurácia do Modelo sem os Otimizadores:', test_acc)\n",
        "\n",
        "# Finaliza a contagem do tempo para medir o tempo de inferência do modelo original\n",
        "end_time = time.time()\n",
        "\n",
        "# Calcula o tempo de inferência do modelo original\n",
        "original_inference_time = end_time - start_time\n",
        "print(f'Tempo de Inferência do Modelo Original: {original_inference_time:.4f} segundos')\n",
        "\n",
        "# Obtém os detalhes de entrada e saída do modelo quantizado\n",
        "input_details = interpreter.get_input_details()\n",
        "output_details = interpreter.get_output_details()\n",
        "\n",
        "# Inicia a contagem do tempo para medir o tempo de inferência do modelo quantizado\n",
        "start_time = time.time()\n",
        "\n",
        "# Inicializa o contador de predições corretas\n",
        "correct_predictions = 0\n",
        "\n",
        "# Loop sobre os dados de teste para fazer inferência com o modelo quantizado\n",
        "for i in range(len(test_images)):\n",
        "    # Prepara os dados de entrada para o modelo quantizado\n",
        "    input_data = np.expand_dims(test_images[i], axis=0).astype('float32')\n",
        "\n",
        "    # Define os dados de entrada para o modelo quantizado\n",
        "    interpreter.set_tensor(input_details[0]['index'], input_data)\n",
        "\n",
        "    # Executa a inferência com o modelo quantizado\n",
        "    interpreter.invoke()\n",
        "\n",
        "    # Obtém a saída do modelo quantizado\n",
        "    output = interpreter.get_tensor(output_details[0]['index'])\n",
        "\n",
        "    # Verifica se a predição do modelo quantizado é correta\n",
        "    if np.argmax(output) == test_labels[i]:\n",
        "        correct_predictions += 1\n",
        "\n",
        "# Finaliza a contagem do tempo para medir o tempo de inferência do modelo quantizado\n",
        "end_time = time.time()\n",
        "\n",
        "# Calcula o tempo de inferência do modelo quantizado\n",
        "quantized_inference_time = end_time - start_time\n",
        "\n",
        "# Calcula a acurácia do modelo quantizado\n",
        "accuracy = correct_predictions / len(test_images)\n",
        "\n",
        "# Imprime a acurácia do modelo quantizado e o tempo de inferência do modelo quantizado\n",
        "print(f'\\nAcurácia do Modelo com os Otimizadores: {accuracy:.4f}')\n",
        "print(f'Tempo de Inferência do Modelo com os Otimizadores: {quantized_inference_time:.4f} segundos')"
      ],
      "metadata": {
        "colab": {
          "base_uri": "https://localhost:8080/"
        },
        "id": "MuflJ6a4Ab46",
        "outputId": "62f17f68-81f5-429c-d8ea-6db5eb090762"
      },
      "execution_count": 25,
      "outputs": [
        {
          "output_type": "stream",
          "name": "stdout",
          "text": [
            "313/313 - 3s - loss: 0.8989 - accuracy: 0.6945 - 3s/epoch - 9ms/step\n",
            "\n",
            "Acurácia do Modelo sem os Otimizadores: 0.6945000290870667\n",
            "Tempo de Inferência do Modelo Original: 5.5768 segundos\n",
            "\n",
            "Acurácia do Modelo com os Otimizadores: 0.6991\n",
            "Tempo de Inferência do Modelo com os Otimizadores: 4.7155 segundos\n"
          ]
        }
      ]
    },
    {
      "cell_type": "markdown",
      "source": [
        "## Gráfico da Acurácia sob Épocas"
      ],
      "metadata": {
        "id": "ZSWYcNCeAfkB"
      }
    },
    {
      "cell_type": "code",
      "source": [
        "# Cria uma figura com tamanho 10x4 polegadas\n",
        "plt.figure(figsize=(10, 4))\n",
        "\n",
        "# Cria um subplot de uma linha e duas colunas, e seleciona o primeiro subplot\n",
        "plt.subplot(1, 2, 1)\n",
        "\n",
        "# Plota a acurácia de treinamento e validação do modelo sem otimizadores\n",
        "plt.plot(history.history['accuracy'], label='Acurácia de Treinamento')\n",
        "plt.plot(history.history['val_accuracy'], label='Acurácia de Validação')\n",
        "plt.xlabel('Época')\n",
        "plt.ylabel('Acurácia')\n",
        "plt.ylim([0, 1])\n",
        "plt.title('Modelo sem os otimizadores')\n",
        "plt.legend()  # Adiciona a legenda\n",
        "\n",
        "# Cria um subplot de uma linha e duas colunas, e seleciona o segundo subplot\n",
        "plt.subplot(1, 2, 2)\n",
        "\n",
        "# Plota a acurácia de treinamento e validação do modelo com otimizadores\n",
        "plt.plot(history_optimizer.history['accuracy'], label='Acurácia de Treinamento')\n",
        "plt.plot(history_optimizer.history['val_accuracy'], label='Acurácia de Validação')\n",
        "plt.xlabel('Época')\n",
        "plt.ylabel('Acurácia')\n",
        "plt.ylim([0, 1])\n",
        "plt.title('Modelo com os otimizadores')\n",
        "plt.legend()  # Adiciona a legenda\n",
        "\n",
        "# Exibe a figura\n",
        "plt.show()"
      ],
      "metadata": {
        "colab": {
          "base_uri": "https://localhost:8080/",
          "height": 412
        },
        "id": "RrJiVO3VApwN",
        "outputId": "3655fc8b-476f-44de-9342-829459100ef7"
      },
      "execution_count": 22,
      "outputs": [
        {
          "output_type": "display_data",
          "data": {
            "text/plain": [
              "<Figure size 1000x400 with 2 Axes>"
            ],
            "image/png": "[encoded data removed]"
          },
          "metadata": {}
        }
      ]
    },
    {
      "cell_type": "markdown",
      "source": [
        "## Gráfico da Perda sob Épocas"
      ],
      "metadata": {
        "id": "4kYMskFRAyfW"
      }
    },
    {
      "cell_type": "code",
      "source": [
        "# Cria uma figura com tamanho 10x4 polegadas\n",
        "plt.figure(figsize=(10, 4))\n",
        "\n",
        "# Cria um subplot de uma linha e duas colunas, e seleciona o primeiro subplot\n",
        "plt.subplot(1, 2, 1)\n",
        "\n",
        "# Plota a perda de treinamento e validação do modelo original\n",
        "plt.plot(history.history['loss'], label='Perda de Treinamento')\n",
        "plt.plot(history.history['val_loss'], label='Perda de Validação')\n",
        "plt.xlabel('Época')\n",
        "plt.ylabel('Perda')\n",
        "plt.title('Modelo sem os otimizadores')\n",
        "plt.legend()  # Adiciona a legenda\n",
        "\n",
        "# Cria um subplot de uma linha e duas colunas, e seleciona o segundo subplot\n",
        "plt.subplot(1, 2, 2)\n",
        "\n",
        "# Plota a perda de treinamento e validação do modelo com otimizadores\n",
        "plt.plot(history_optimizer.history['loss'], label='Perda de Treinamento')\n",
        "plt.plot(history_optimizer.history['val_loss'], label='Perda de Validação')\n",
        "plt.xlabel('Época')\n",
        "plt.ylabel('Perda')\n",
        "plt.title('Modelo com os otimizadores')\n",
        "plt.legend()  # Adiciona a legenda\n",
        "\n",
        "# Exibe a figura\n",
        "plt.show()"
      ],
      "metadata": {
        "colab": {
          "base_uri": "https://localhost:8080/",
          "height": 412
        },
        "id": "VxuI8POyA42s",
        "outputId": "a2588a81-a320-47ac-b492-3a58a46d8f19"
      },
      "execution_count": 23,
      "outputs": [
        {
          "output_type": "display_data",
          "data": {
            "text/plain": [
              "<Figure size 1000x400 with 2 Axes>"
            ],
            "image/png": "[encoded data removed]"
          },
          "metadata": {}
        }
      ]
    }
  ]
}